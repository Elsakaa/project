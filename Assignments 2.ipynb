{
 "cells": [
  {
   "cell_type": "markdown",
   "id": "f892d3d2",
   "metadata": {},
   "source": [
    "# https://www.hackerrank.com/challenges/find-second-maximum-number-in-a-list/problem?isFullScreen=false\n",
    "\n",
    "# Find the Runner-Up Score!"
   ]
  },
  {
   "cell_type": "code",
   "execution_count": 1,
   "id": "a6a39360",
   "metadata": {},
   "outputs": [
    {
     "name": "stdout",
     "output_type": "stream",
     "text": [
      "Enter the wineer 4 3 9 3 9\n",
      "the Runner-Up Score is:  4\n"
     ]
    }
   ],
   "source": [
    "score =list(map( int,input(\"Enter the wineer \").strip().split(\" \")))\n",
    "a,b,c,d,e=score[0],score[1],score[2],score[3],score[4]\n",
    "def Runner_Up (score):\n",
    "    bigger_one=max(score)\n",
    "    score.remove(bigger_one)\n",
    "    while bigger_one==max(score):\n",
    "        score.remove(bigger_one)\n",
    "    else:\n",
    "        return max(score)\n",
    "print(\"the Runner-Up Score is: \",Runner_Up (score))    "
   ]
  },
  {
   "cell_type": "markdown",
   "id": "1ea2823a",
   "metadata": {},
   "source": [
    "# https://www.hackerrank.com/challenges/list-comprehensions/problem?isFullScreen=false\n",
    "\n",
    "# List Comprehensions\n",
    "\n"
   ]
  },
  {
   "cell_type": "code",
   "execution_count": 1,
   "id": "d7fa708c",
   "metadata": {},
   "outputs": [
    {
     "name": "stdout",
     "output_type": "stream",
     "text": [
      "1\n",
      "1\n",
      "1\n",
      "2\n",
      "[[0, 0, 0], [0, 0, 1], [0, 1, 0], [0, 1, 1], [1, 0, 0], [1, 0, 1], [1, 1, 0], [1, 1, 1]]\n"
     ]
    }
   ],
   "source": [
    "user1 = int(input())\n",
    "user2 = int(input())\n",
    "user3= int(input())\n",
    "user4= int(input())\n",
    "The_result= [[a,b,c] \n",
    "             for a in range(user1+1) \n",
    "             for b in range (user2+1) \n",
    "             for c in range(user3+1)  \n",
    "             if [a+b+c] !=user4 ]\n",
    "print ((The_result))"
   ]
  },
  {
   "cell_type": "markdown",
   "id": "b0139948",
   "metadata": {},
   "source": [
    "# https://www.hackerrank.com/challenges/swap-case/problem?isFullScreen=false\n",
    "\n",
    "# sWAP cASE\n",
    "\n"
   ]
  },
  {
   "cell_type": "code",
   "execution_count": 3,
   "id": "8049156a",
   "metadata": {},
   "outputs": [
    {
     "name": "stdout",
     "output_type": "stream",
     "text": [
      "Enter your Sentence:- HackerRank.com presents \"Pythonist 2\".\n",
      "hACKERrANK.COM PRESENTS \"pYTHONIST 2\".\n"
     ]
    }
   ],
   "source": [
    "swap =input(\"Enter your Sentence:- \")\n",
    "def swap_case(swap):\n",
    "    return swap.swapcase()\n",
    "print(swap_case(swap))"
   ]
  },
  {
   "cell_type": "markdown",
   "id": "2ee66801",
   "metadata": {},
   "source": [
    "# https://www.hackerrank.com/challenges/polar-coordinates/problem?isFullScreen=false\n",
    "\n",
    "# Polar Coordinates"
   ]
  },
  {
   "cell_type": "code",
   "execution_count": 4,
   "id": "6375b20a",
   "metadata": {},
   "outputs": [
    {
     "name": "stdout",
     "output_type": "stream",
     "text": [
      "1+2j\n",
      "2.23606797749979\n",
      "1.1071487177940904\n"
     ]
    }
   ],
   "source": [
    "import cmath\n",
    "z = complex(input())\n",
    "print(abs(z))\n",
    "print(cmath.phase(z))"
   ]
  },
  {
   "cell_type": "markdown",
   "id": "ee61323a",
   "metadata": {},
   "source": [
    "# https://www.hackerrank.com/challenges/calendar-module/problem?isFullScreen=false\n",
    "\n",
    "# Calendar Module\n",
    "\n"
   ]
  },
  {
   "cell_type": "code",
   "execution_count": 6,
   "id": "59b2426d",
   "metadata": {},
   "outputs": [
    {
     "name": "stdout",
     "output_type": "stream",
     "text": [
      "08 05 2015\n",
      "WEDNESDAY\n"
     ]
    }
   ],
   "source": [
    "import calendar\n",
    "cal =list(map( int,input().strip().split(\" \")))\n",
    "month,day,year=cal[0],cal[1],cal[2]\n",
    "\n",
    "# weekday() method to get the day of the week as a number, where Monday is 0 and Sunday is 6.\n",
    "# so  when i wrote condition if started with MONDAY\n",
    "\n",
    "c = calendar.weekday(year, month, day)\n",
    "if c == 0:\n",
    "    print(\"MONDAY\")\n",
    "elif c == 1:\n",
    "    print(\"TUESDAY\")\n",
    "elif c == 2:\n",
    "    print(\"WEDNESDAY\")\n",
    "elif c==3:\n",
    "    print(\"THURSDAY\")\n",
    "elif c==4:\n",
    "    print(\"FRIDAY\")\n",
    "elif c== 5:\n",
    "    print(\"SATURDAY\")\n",
    "elif c==6:\n",
    "    print(\"SUNDAY\")"
   ]
  },
  {
   "cell_type": "code",
   "execution_count": null,
   "id": "5441c6d0",
   "metadata": {},
   "outputs": [],
   "source": []
  }
 ],
 "metadata": {
  "kernelspec": {
   "display_name": "Python 3 (ipykernel)",
   "language": "python",
   "name": "python3"
  },
  "language_info": {
   "codemirror_mode": {
    "name": "ipython",
    "version": 3
   },
   "file_extension": ".py",
   "mimetype": "text/x-python",
   "name": "python",
   "nbconvert_exporter": "python",
   "pygments_lexer": "ipython3",
   "version": "3.10.8"
  }
 },
 "nbformat": 4,
 "nbformat_minor": 5
}
