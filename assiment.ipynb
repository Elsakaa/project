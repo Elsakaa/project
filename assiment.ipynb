{
 "cells": [
  {
   "cell_type": "markdown",
   "id": "e9e32388",
   "metadata": {},
   "source": [
    "# assiment\n",
    "# Python Basic Exercise for Beginners"
   ]
  },
  {
   "cell_type": "markdown",
   "id": "3839f455",
   "metadata": {},
   "source": [
    "# Exercise 1: Calculate the multiplication and sum of two numbers"
   ]
  },
  {
   "cell_type": "code",
   "execution_count": 4,
   "id": "b350c407",
   "metadata": {},
   "outputs": [
    {
     "name": "stdout",
     "output_type": "stream",
     "text": [
      "The result is :- (12, 35)\n"
     ]
    }
   ],
   "source": [
    "def mul_sum (num1,num2):\n",
    "    return num1+num2,num1*num2\n",
    "print(\"The result is :-\",mul_sum(5,7))\n"
   ]
  },
  {
   "cell_type": "markdown",
   "id": "11c533c2",
   "metadata": {},
   "source": [
    "# Exercise 2: Print the sum of the current number and the previous number"
   ]
  },
  {
   "cell_type": "code",
   "execution_count": 8,
   "id": "2f26a4ae",
   "metadata": {},
   "outputs": [
    {
     "name": "stdout",
     "output_type": "stream",
     "text": [
      "Current Number is:  1  Previous Number is:  0  Sum is:  1\n",
      "Current Number is:  2  Previous Number is:  1  Sum is:  3\n",
      "Current Number is:  3  Previous Number is:  2  Sum is:  5\n",
      "Current Number is:  4  Previous Number is:  3  Sum is:  7\n",
      "Current Number is:  5  Previous Number is:  4  Sum is:  9\n",
      "Current Number is:  6  Previous Number is:  5  Sum is:  11\n",
      "Current Number is:  7  Previous Number is:  6  Sum is:  13\n",
      "Current Number is:  8  Previous Number is:  7  Sum is:  15\n",
      "Current Number is:  9  Previous Number is:  8  Sum is:  17\n",
      "Current Number is:  10  Previous Number is:  9  Sum is:  19\n"
     ]
    }
   ],
   "source": [
    "for equation in range(1,11):\n",
    "    previous_num=equation-1\n",
    "    rusalt=equation+previous_num\n",
    "    \n",
    "    print(\"Current Number is: \", equation , \" Previous Number is: \", previous_num, \" Sum is: \",rusalt)\n"
   ]
  },
  {
   "cell_type": "markdown",
   "id": "aa79148b",
   "metadata": {},
   "source": [
    "# Exercise 3: Print characters from a string that are present at an even index number\n"
   ]
  },
  {
   "cell_type": "code",
   "execution_count": 9,
   "id": "396930a1",
   "metadata": {},
   "outputs": [
    {
     "name": "stdout",
     "output_type": "stream",
     "text": [
      "please Enter your Damn charactares saka\n",
      "s\n",
      "k\n"
     ]
    }
   ],
   "source": [
    "char =input(\"please Enter your Damn charactares \")\n",
    "z=list(char)\n",
    "for count in z[0::2]:\n",
    "    print(count)"
   ]
  },
  {
   "cell_type": "markdown",
   "id": "5b590bdf",
   "metadata": {},
   "source": [
    "# Exercise 4: Remove first n characters from a string"
   ]
  },
  {
   "cell_type": "code",
   "execution_count": 12,
   "id": "9f4283ff",
   "metadata": {},
   "outputs": [
    {
     "name": "stdout",
     "output_type": "stream",
     "text": [
      "Enter word elsaka\n",
      "Enter the scanner 3\n",
      "a\n",
      "k\n",
      "a\n"
     ]
    }
   ],
   "source": [
    "char = input(\"Enter word \")\n",
    "num = int(input(\"Enter the scanner \"))\n",
    "l=list(char)\n",
    "\n",
    "for count in l[num::]:\n",
    "    print(count)"
   ]
  },
  {
   "cell_type": "markdown",
   "id": "0c08421e",
   "metadata": {},
   "source": [
    "# Exercise 5: Check if the first and last number of a list is the same"
   ]
  },
  {
   "cell_type": "code",
   "execution_count": 13,
   "id": "8d4920f4",
   "metadata": {},
   "outputs": [
    {
     "name": "stdout",
     "output_type": "stream",
     "text": [
      "True\n"
     ]
    }
   ],
   "source": [
    "num_of_list=[10,20,30,40,50,60,10]\n",
    "first_list=num_of_list[0]\n",
    "last_list=num_of_list[-1]\n",
    "\n",
    "if first_list == last_list:\n",
    "        print(\"True\")\n",
    "else:\n",
    "        print(\"False\")"
   ]
  },
  {
   "cell_type": "markdown",
   "id": "7236235b",
   "metadata": {},
   "source": [
    "# Exercise 5: Check if the first and last number of a list is the same"
   ]
  },
  {
   "cell_type": "code",
   "execution_count": 18,
   "id": "52c36557",
   "metadata": {},
   "outputs": [
    {
     "name": "stdout",
     "output_type": "stream",
     "text": [
      "False\n"
     ]
    }
   ],
   "source": [
    "num_of_list_2=[10,20,30,40,50,60,70]\n",
    "first_list=num_of_list_2[0]\n",
    "last_list=num_of_list_2[-1]\n",
    "\n",
    "if first_list == last_list:\n",
    "        print(\"True\")\n",
    "else:\n",
    "        print(\"False\")"
   ]
  },
  {
   "cell_type": "markdown",
   "id": "30f8bb8d",
   "metadata": {},
   "source": [
    "# Exercise 6: Display numbers divisible by 5 from a list"
   ]
  },
  {
   "cell_type": "code",
   "execution_count": 19,
   "id": "5b52d307",
   "metadata": {},
   "outputs": [
    {
     "name": "stdout",
     "output_type": "stream",
     "text": [
      "20\n",
      "70\n",
      "55\n",
      "30\n"
     ]
    }
   ],
   "source": [
    "check =[20,22,70,55,13,30]\n",
    "for x in check:\n",
    "    \n",
    "    if x % 5==0:\n",
    "        print(x)"
   ]
  },
  {
   "cell_type": "markdown",
   "id": "b31517a5",
   "metadata": {},
   "source": [
    "# Exercise 7: Return the count of a given substring from a string"
   ]
  },
  {
   "cell_type": "code",
   "execution_count": 22,
   "id": "c072aefc",
   "metadata": {},
   "outputs": [
    {
     "name": "stdout",
     "output_type": "stream",
     "text": [
      "Elsaka appeared  2 times\n"
     ]
    }
   ],
   "source": [
    "word = \"Elsaka is student,and Elsaka have some friend \"\n",
    "x = word.count(\"Elsaka\")\n",
    "print(\"Elsaka appeared \",x,\"times\")"
   ]
  },
  {
   "cell_type": "markdown",
   "id": "0984d258",
   "metadata": {},
   "source": [
    "# Exercise 8: Print the following pattern"
   ]
  },
  {
   "cell_type": "code",
   "execution_count": 24,
   "id": "0a89c639",
   "metadata": {},
   "outputs": [
    {
     "name": "stdout",
     "output_type": "stream",
     "text": [
      "\n",
      "\n",
      "0 \n",
      "\n",
      "0 1 \n",
      "\n",
      "0 1 2 \n",
      "\n",
      "0 1 2 3 \n",
      "\n",
      "0 1 2 3 4 \n",
      "\n"
     ]
    }
   ],
   "source": [
    "for num1 in range(6):\n",
    "    for num2 in range(num1):\n",
    "        print (num2,end=(\" \"))\n",
    "    \n",
    "    print(\"\\n\")"
   ]
  },
  {
   "cell_type": "markdown",
   "id": "5b7125f4",
   "metadata": {},
   "source": [
    "# Exercise 9: Check Palindrome Number"
   ]
  },
  {
   "cell_type": "code",
   "execution_count": 25,
   "id": "ccbf59ab",
   "metadata": {},
   "outputs": [
    {
     "name": "stdout",
     "output_type": "stream",
     "text": [
      "4 5 4\n",
      "Yes. given number is palindrome number\n"
     ]
    }
   ],
   "source": [
    "N=list(map(int,input().strip().split(\" \")))\n",
    "a,b,c=N[0],N[1],N[2]\n",
    "if N[0]==N[2]:\n",
    "    print(\"Yes. given number is palindrome number\")\n",
    "elif N[0]!=N[2]:\n",
    "    print(\"No. given number is not palindrome number\")\n",
    "else:\n",
    "    print(\"are you dumb\")"
   ]
  },
  {
   "cell_type": "markdown",
   "id": "95584027",
   "metadata": {},
   "source": [
    "# Exercise 10: Create a new list from a two list using the following condition"
   ]
  },
  {
   "cell_type": "code",
   "execution_count": 26,
   "id": "5e714c8e",
   "metadata": {},
   "outputs": [
    {
     "name": "stdout",
     "output_type": "stream",
     "text": [
      "25\n",
      "35\n",
      "40\n",
      "60\n",
      "90\n"
     ]
    }
   ],
   "source": [
    "list1 = [10, 20, 25, 30, 35]\n",
    "list2 = [40, 45, 60, 75, 90]\n",
    "for x in list1:\n",
    "    if x % 2!=0:\n",
    "        print(x)\n",
    "for z in list2:\n",
    "    if z % 2==0:\n",
    "        print(z)"
   ]
  },
  {
   "cell_type": "markdown",
   "id": "f53d4283",
   "metadata": {},
   "source": [
    "# Exercise 11: Write a Program to extract each digit from an integer in the reverse order."
   ]
  },
  {
   "cell_type": "code",
   "execution_count": 27,
   "id": "a12e7e7f",
   "metadata": {},
   "outputs": [
    {
     "name": "stdout",
     "output_type": "stream",
     "text": [
      "Enter your number 4567\n",
      "4 5 6 7\n"
     ]
    }
   ],
   "source": [
    "num = list(input(\"Enter your number \"))\n",
    "    \n",
    "print((\" \").join(num))"
   ]
  },
  {
   "cell_type": "markdown",
   "id": "a885a5e9",
   "metadata": {},
   "source": [
    "# Exercise 13: Print multiplication table form 1 to 10\n"
   ]
  },
  {
   "cell_type": "code",
   "execution_count": 1,
   "id": "bea45f74",
   "metadata": {},
   "outputs": [
    {
     "name": "stdout",
     "output_type": "stream",
     "text": [
      "1 2 3 4 5 6 7 8 9 10 \n",
      "2 4 6 8 10 12 14 16 18 20 \n",
      "3 6 9 12 15 18 21 24 27 30 \n",
      "4 8 12 16 20 24 28 32 36 40 \n",
      "5 10 15 20 25 30 35 40 45 50 \n",
      "6 12 18 24 30 36 42 48 54 60 \n",
      "7 14 21 28 35 42 49 56 63 70 \n",
      "8 16 24 32 40 48 56 64 72 80 \n",
      "9 18 27 36 45 54 63 72 81 90 \n",
      "10 20 30 40 50 60 70 80 90 100 \n"
     ]
    }
   ],
   "source": [
    "for x in range(1,11):\n",
    "    for z in range(1,11):\n",
    "        print(x*z,end=(\" \"))\n",
    "    print()"
   ]
  },
  {
   "cell_type": "markdown",
   "id": "d86d7088",
   "metadata": {},
   "source": [
    "# Exercise 15: Write a function called exponent(base, exp) that returns an int value of base raises to the power of exp.\n"
   ]
  },
  {
   "cell_type": "code",
   "execution_count": 2,
   "id": "4deaa16a",
   "metadata": {},
   "outputs": [
    {
     "name": "stdout",
     "output_type": "stream",
     "text": [
      "5 raises to the power of 4 is =  625\n"
     ]
    }
   ],
   "source": [
    "def power (base,powe):\n",
    "    return base**powe\n",
    "print(\"5 raises to the power of 4 is = \", power(5,4))"
   ]
  },
  {
   "cell_type": "markdown",
   "id": "b7d4742d",
   "metadata": {},
   "source": [
    "# Python Input and Output Exercise\n",
    "\n",
    "\n",
    "\n",
    "# Exercise 1: Accept numbers from a user"
   ]
  },
  {
   "cell_type": "code",
   "execution_count": 3,
   "id": "df8a0c3f",
   "metadata": {},
   "outputs": [
    {
     "name": "stdout",
     "output_type": "stream",
     "text": [
      "Enter the first number 5\n",
      "Enter the second number 9\n",
      "the multiplication is 45\n"
     ]
    }
   ],
   "source": [
    "num1 = int(input(\"Enter the first number \"))\n",
    "num2 = int(input(\"Enter the second number \"))\n",
    "mul=num1*num2\n",
    "print(\"the multiplication is\",mul)"
   ]
  },
  {
   "cell_type": "markdown",
   "id": "1be5a427",
   "metadata": {},
   "source": [
    "# Exercise 2: Display three string “Name”, “Is”, “James” as “Name**Is**James”\n"
   ]
  },
  {
   "cell_type": "code",
   "execution_count": 4,
   "id": "14858e05",
   "metadata": {},
   "outputs": [
    {
     "name": "stdout",
     "output_type": "stream",
     "text": [
      "my**name**is**elsaka\n"
     ]
    }
   ],
   "source": [
    "word = (\"my,name,is,elsaka\")\n",
    "print(word.replace(\",\",\"**\"))"
   ]
  },
  {
   "cell_type": "markdown",
   "id": "96181172",
   "metadata": {},
   "source": [
    "# Exercise 3: Convert Decimal number to octal using print() output formatting\n"
   ]
  },
  {
   "cell_type": "code",
   "execution_count": 5,
   "id": "1aa40b78",
   "metadata": {},
   "outputs": [],
   "source": [
    "# how !!!!"
   ]
  },
  {
   "cell_type": "markdown",
   "id": "348a6e5b",
   "metadata": {},
   "source": [
    "# Exercise 4: Display float number with 2 decimal places using print()\n"
   ]
  },
  {
   "cell_type": "code",
   "execution_count": 8,
   "id": "aade8013",
   "metadata": {},
   "outputs": [
    {
     "name": "stdout",
     "output_type": "stream",
     "text": [
      "789.65\n"
     ]
    }
   ],
   "source": [
    "num = 789.654321\n",
    "print('%.2f' % num)"
   ]
  },
  {
   "cell_type": "markdown",
   "id": "fdbea9c8",
   "metadata": {},
   "source": [
    "# Exercise 5: Accept a list of 5 float numbers as an input from the user"
   ]
  },
  {
   "cell_type": "code",
   "execution_count": 10,
   "id": "8f70d57d",
   "metadata": {},
   "outputs": [
    {
     "name": "stdout",
     "output_type": "stream",
     "text": [
      "Enter your list  456789\n",
      "your list is  ['4', '5', '6', '7', '8', '9']\n"
     ]
    }
   ],
   "source": [
    "num =input(\"Enter your list  \")\n",
    "print(\"your list is \",list (num))"
   ]
  },
  {
   "cell_type": "markdown",
   "id": "4db88e68",
   "metadata": {},
   "source": [
    "# Exercise 6: Write all content of a given file into a new file by skipping line number 5"
   ]
  },
  {
   "cell_type": "code",
   "execution_count": 11,
   "id": "761605be",
   "metadata": {},
   "outputs": [
    {
     "name": "stdout",
     "output_type": "stream",
     "text": [
      "line1\n",
      "\n",
      "line2\n",
      "\n",
      "line3\n",
      "\n",
      "line4\n",
      "\n",
      "line5\n",
      "\n",
      "line6\n",
      "\n",
      "line7\n"
     ]
    }
   ],
   "source": [
    "text=open(\"saka.txt\",\"r+\")\n",
    "for T in text:\n",
    "    print(T)\n",
    "text.close()"
   ]
  },
  {
   "cell_type": "markdown",
   "id": "b6e39cc3",
   "metadata": {},
   "source": [
    "# Exercise 7: Accept any three string from one input() call"
   ]
  },
  {
   "cell_type": "code",
   "execution_count": 12,
   "id": "040db593",
   "metadata": {},
   "outputs": [
    {
     "name": "stdout",
     "output_type": "stream",
     "text": [
      "adel mahmoud elsaka\n",
      "['adel', 'mahmoud', 'elsaka']\n"
     ]
    }
   ],
   "source": [
    "num =list (input().strip().split(\" \"))\n",
    "a,b,c = num[0],num[1],num[2]\n",
    "print (num)"
   ]
  },
  {
   "cell_type": "markdown",
   "id": "ff12706f",
   "metadata": {},
   "source": [
    "# Exercise 8: Format variables using a string.format() method.\n"
   ]
  },
  {
   "cell_type": "code",
   "execution_count": 13,
   "id": "c1d4a315",
   "metadata": {},
   "outputs": [
    {
     "name": "stdout",
     "output_type": "stream",
     "text": [
      "i have 1000 so can i buy 3 books for 450.00 dollars\n"
     ]
    }
   ],
   "source": [
    "total_money = 1000\n",
    "quantity = 3\n",
    "price = 450\n",
    "collect =\"i have {0} so can i buy {1} books for {2:.2f} dollars\"\n",
    "print(collect.format(total_money,quantity,price))"
   ]
  },
  {
   "cell_type": "markdown",
   "id": "bee1a44e",
   "metadata": {},
   "source": [
    "# Exercise 9: Check file is empty or not"
   ]
  },
  {
   "cell_type": "code",
   "execution_count": 14,
   "id": "6ae29f6a",
   "metadata": {},
   "outputs": [
    {
     "name": "stdout",
     "output_type": "stream",
     "text": [
      "not empty\n"
     ]
    }
   ],
   "source": [
    "file=open(\"read.txt\",\"r\")\n",
    "for x in file:\n",
    "    if x==0:\n",
    "        print(\"is empty\")\n",
    "    else:\n",
    "        print(\"not empty\")\n",
    "file.close()        "
   ]
  },
  {
   "cell_type": "markdown",
   "id": "6a57c174",
   "metadata": {},
   "source": [
    "\n"
   ]
  },
  {
   "cell_type": "markdown",
   "id": "405d0095",
   "metadata": {},
   "source": [
    "# Exercise 10: Read line number 4 from the following file"
   ]
  },
  {
   "cell_type": "code",
   "execution_count": 15,
   "id": "bc65ab51",
   "metadata": {},
   "outputs": [
    {
     "name": "stdout",
     "output_type": "stream",
     "text": [
      "line4\n",
      "\n"
     ]
    }
   ],
   "source": [
    "folder=open(\"saka.txt\",\"r\")\n",
    "lines = folder.readlines()\n",
    "print(lines[3])\n",
    "folder.close()\n"
   ]
  },
  {
   "cell_type": "markdown",
   "id": "d1a2241f",
   "metadata": {},
   "source": [
    "# Python if else, for loop, and range() Exercises with Solutions\n",
    "\n",
    "# Exercise 1: Print First 10 natural numbers using while loop\n"
   ]
  },
  {
   "cell_type": "code",
   "execution_count": 16,
   "id": "e28454c9",
   "metadata": {},
   "outputs": [
    {
     "name": "stdout",
     "output_type": "stream",
     "text": [
      "1\n",
      "2\n",
      "3\n",
      "4\n",
      "5\n",
      "6\n",
      "7\n",
      "8\n",
      "9\n",
      "10\n"
     ]
    }
   ],
   "source": [
    "for x in range(1,11):\n",
    "    print(x)"
   ]
  },
  {
   "cell_type": "markdown",
   "id": "5d505fcf",
   "metadata": {},
   "source": [
    "# Exercise 4: Write a program to print multiplication table of a given number\n"
   ]
  },
  {
   "cell_type": "code",
   "execution_count": 17,
   "id": "53421fc4",
   "metadata": {},
   "outputs": [
    {
     "name": "stdout",
     "output_type": "stream",
     "text": [
      "2\n",
      "4\n",
      "6\n",
      "8\n",
      "10\n",
      "12\n",
      "14\n",
      "16\n",
      "18\n",
      "20\n",
      "22\n",
      "24\n",
      "26\n",
      "28\n"
     ]
    }
   ],
   "source": [
    "for x in range(1,15):\n",
    "    rusalt =x*2\n",
    "    print(rusalt)"
   ]
  },
  {
   "cell_type": "markdown",
   "id": "0d5b51ef",
   "metadata": {},
   "source": [
    "# Exercise 5: Display numbers from a list using loop"
   ]
  },
  {
   "cell_type": "code",
   "execution_count": 18,
   "id": "bccb9e38",
   "metadata": {},
   "outputs": [
    {
     "name": "stdout",
     "output_type": "stream",
     "text": [
      "75\n",
      "150\n",
      "145\n"
     ]
    }
   ],
   "source": [
    "numbers = [12, 75, 150, 180, 145, 525, 50]\n",
    "for x in numbers:\n",
    "    if x>500:\n",
    "        break\n",
    "    elif x>150:\n",
    "        continue\n",
    "    elif x%5==0:\n",
    "        print(x)    \n",
    "   "
   ]
  },
  {
   "cell_type": "markdown",
   "id": "510ead23",
   "metadata": {},
   "source": [
    "# Exercise 6: Count the total number of digits in a number\n"
   ]
  },
  {
   "cell_type": "code",
   "execution_count": 19,
   "id": "4c1eacaf",
   "metadata": {},
   "outputs": [
    {
     "name": "stdout",
     "output_type": "stream",
     "text": [
      "9\n"
     ]
    }
   ],
   "source": [
    "num =(\"955254654\")\n",
    "print(len(num))"
   ]
  },
  {
   "cell_type": "markdown",
   "id": "5fbfce25",
   "metadata": {},
   "source": [
    "# Exercise 8: Print list in reverse order using a loop\n"
   ]
  },
  {
   "cell_type": "code",
   "execution_count": 20,
   "id": "c2c615be",
   "metadata": {},
   "outputs": [
    {
     "name": "stdout",
     "output_type": "stream",
     "text": [
      "50\n",
      "40\n",
      "30\n",
      "20\n",
      "10\n"
     ]
    }
   ],
   "source": [
    "list1 = [10, 20, 30, 40, 50]\n",
    "list2= reversed(list1)\n",
    "for x in list2:\n",
    "    print(x)"
   ]
  },
  {
   "cell_type": "markdown",
   "id": "3729e45f",
   "metadata": {},
   "source": [
    "# Exercise 9: Display numbers from -10 to -1 using for loop"
   ]
  },
  {
   "cell_type": "code",
   "execution_count": 21,
   "id": "8ee41faa",
   "metadata": {},
   "outputs": [
    {
     "name": "stdout",
     "output_type": "stream",
     "text": [
      "-10\n",
      "-9\n",
      "-8\n",
      "-7\n",
      "-6\n",
      "-5\n",
      "-4\n",
      "-3\n",
      "-2\n",
      "-1\n"
     ]
    }
   ],
   "source": [
    "for x in range(-10,0):\n",
    "    print(x)"
   ]
  },
  {
   "cell_type": "markdown",
   "id": "cdbf9dd1",
   "metadata": {},
   "source": [
    "# Exercise 10: Use else block to display a message “Done” after successful execution of for loop"
   ]
  },
  {
   "cell_type": "code",
   "execution_count": 22,
   "id": "0211e569",
   "metadata": {},
   "outputs": [
    {
     "name": "stdout",
     "output_type": "stream",
     "text": [
      "0\n",
      "1\n",
      "2\n",
      "3\n",
      "4\n",
      "Done !\n"
     ]
    }
   ],
   "source": [
    "for i in range(5):\n",
    "    print(i)\n",
    "else:\n",
    "    print(\"Done !\")"
   ]
  },
  {
   "cell_type": "markdown",
   "id": "05b734f9",
   "metadata": {},
   "source": [
    "# Exercise 11: Write a program to display all prime numbers within a range\n"
   ]
  },
  {
   "cell_type": "code",
   "execution_count": 24,
   "id": "a6c6828f",
   "metadata": {},
   "outputs": [
    {
     "name": "stdout",
     "output_type": "stream",
     "text": [
      "29\n",
      "31\n",
      "37\n",
      "41\n",
      "43\n",
      "47\n"
     ]
    }
   ],
   "source": [
    "start =25\n",
    "end =50\n",
    "for x in range(start,end+1):\n",
    "    if x>1:\n",
    "        for i in range(2,x):\n",
    "            if x % i==0:\n",
    "                break\n",
    "                \n",
    "        else :   \n",
    "            print(x)"
   ]
  },
  {
   "cell_type": "markdown",
   "id": "4a25499b",
   "metadata": {},
   "source": [
    "# Exercise 12: Display Fibonacci series up to 10 terms\n"
   ]
  },
  {
   "cell_type": "code",
   "execution_count": 23,
   "id": "a7a423b9",
   "metadata": {},
   "outputs": [
    {
     "name": "stdout",
     "output_type": "stream",
     "text": [
      "enter your Fibonacci 11\n",
      "89\n"
     ]
    }
   ],
   "source": [
    "x=int(input(\"enter your Fibonacci \"))\n",
    "def Fibonacci (x):\n",
    "    if x==0:\n",
    "        return 0\n",
    "    elif x==1:\n",
    "        return 1\n",
    "    else:\n",
    "        return Fibonacci (x-1)+Fibonacci (x-2)\n",
    "print ( Fibonacci (x))    "
   ]
  },
  {
   "cell_type": "markdown",
   "id": "0e67a437",
   "metadata": {},
   "source": [
    "# Exercise 13: Find the factorial of a given number"
   ]
  },
  {
   "cell_type": "code",
   "execution_count": 3,
   "id": "dc31265f",
   "metadata": {},
   "outputs": [
    {
     "name": "stdout",
     "output_type": "stream",
     "text": [
      "Enter some number 6\n",
      "720\n"
     ]
    }
   ],
   "source": [
    "fact = int(input(\"Enter some number \"))\n",
    "def factorial (fact):\n",
    "    if fact==1:\n",
    "        return 1\n",
    "    else:\n",
    "        return fact*factorial(fact-1)\n",
    "print(factorial(fact))    "
   ]
  },
  {
   "cell_type": "markdown",
   "id": "94645de6",
   "metadata": {},
   "source": [
    "# Exercise 15: Use a loop to display elements from a given list present at odd index positions"
   ]
  },
  {
   "cell_type": "code",
   "execution_count": 7,
   "id": "7217a67f",
   "metadata": {},
   "outputs": [
    {
     "name": "stdout",
     "output_type": "stream",
     "text": [
      "20\n",
      "40\n",
      "60\n",
      "80\n",
      "100\n"
     ]
    }
   ],
   "source": [
    "my_list = [10, 20, 30, 40, 50, 60, 70, 80, 90, 100]\n",
    "for x in my_list[1::2]:\n",
    "    print(x)"
   ]
  },
  {
   "cell_type": "markdown",
   "id": "eb4f4a96",
   "metadata": {},
   "source": [
    "# Exercise 16: Calculate the cube of all numbers from 1 to a given number\n"
   ]
  },
  {
   "cell_type": "code",
   "execution_count": 8,
   "id": "3b4af0cc",
   "metadata": {},
   "outputs": [
    {
     "name": "stdout",
     "output_type": "stream",
     "text": [
      "any number ?6\n",
      "1\n",
      "8\n",
      "27\n",
      "64\n",
      "125\n",
      "216\n"
     ]
    }
   ],
   "source": [
    "cube= int(input(\"any number ?\"))\n",
    "for x in range(1,cube+1):\n",
    "    print(x**3)\n"
   ]
  },
  {
   "cell_type": "markdown",
   "id": "a90f862c",
   "metadata": {},
   "source": [
    "# Python Functions Exercise\n",
    "# Exercise 1: Create a function in Python"
   ]
  },
  {
   "cell_type": "code",
   "execution_count": 9,
   "id": "9450b5f0",
   "metadata": {},
   "outputs": [
    {
     "name": "stdout",
     "output_type": "stream",
     "text": [
      "('Elsaka', 22)\n"
     ]
    }
   ],
   "source": [
    "def fanction (name,age):\n",
    "    return name ,age\n",
    "print(fanction(\"Elsaka\",22))\n"
   ]
  },
  {
   "cell_type": "markdown",
   "id": "247a9f58",
   "metadata": {},
   "source": [
    "# Exercise 2: Create a function with variable length of arguments"
   ]
  },
  {
   "cell_type": "code",
   "execution_count": 10,
   "id": "5ca33d57",
   "metadata": {},
   "outputs": [
    {
     "name": "stdout",
     "output_type": "stream",
     "text": [
      "20\n",
      "40\n",
      "60\n",
      "70\n",
      "80\n"
     ]
    }
   ],
   "source": [
    "def fun(*p):\n",
    "    for x in p:\n",
    "        print(x)\n",
    "        \n",
    "fun(20, 40, 60,70,80)"
   ]
  },
  {
   "cell_type": "markdown",
   "id": "0ff6aa2b",
   "metadata": {},
   "source": [
    "# Exercise 3: Return multiple values from a function\n"
   ]
  },
  {
   "cell_type": "code",
   "execution_count": 11,
   "id": "65ba356d",
   "metadata": {},
   "outputs": [
    {
     "name": "stdout",
     "output_type": "stream",
     "text": [
      "(80, 20)\n"
     ]
    }
   ],
   "source": [
    "def sumb(num1,num2):\n",
    "    return num1+num2,num1-num2\n",
    "\n",
    "print(sumb(50,30))"
   ]
  },
  {
   "cell_type": "markdown",
   "id": "a74cb380",
   "metadata": {},
   "source": [
    "# Exercise 4: Create a function with a default argument"
   ]
  },
  {
   "cell_type": "code",
   "execution_count": 1,
   "id": "88986374",
   "metadata": {},
   "outputs": [
    {
     "name": "stdout",
     "output_type": "stream",
     "text": [
      "('name: Ben and salary is =', 12000)\n",
      "('name: Jessa and salary is', 9000)\n"
     ]
    }
   ],
   "source": [
    "#It should accept the employee’s name and salary and display both.\n",
    "#If the salary is missing in the function call then assign default value 9000 to salary\n",
    "\n",
    "def show_employee(name,salary=9000):\n",
    "    return name , salary\n",
    "print ( show_employee(\"name: Ben and salary is =\" ,12000))\n",
    "print ( show_employee(\"name: Jessa and salary is\" ))\n"
   ]
  },
  {
   "cell_type": "markdown",
   "id": "88b895e5",
   "metadata": {},
   "source": [
    "# Exercise 5: Create an inner function to calculate the addition in the following way"
   ]
  },
  {
   "cell_type": "code",
   "execution_count": 2,
   "id": "590351b2",
   "metadata": {},
   "outputs": [
    {
     "name": "stdout",
     "output_type": "stream",
     "text": [
      "20\n"
     ]
    }
   ],
   "source": [
    "def out(a, b):\n",
    "    square = a+2\n",
    "    def add (a,b):\n",
    "        return a+b\n",
    "    addition= add (a,b)\n",
    "    return addition + 5\n",
    "print(out(5,10))  \n"
   ]
  },
  {
   "cell_type": "markdown",
   "id": "24febed4",
   "metadata": {},
   "source": [
    "# Exercise 6: Create a recursive function"
   ]
  },
  {
   "cell_type": "code",
   "execution_count": 4,
   "id": "9b77fe3a",
   "metadata": {},
   "outputs": [
    {
     "name": "stdout",
     "output_type": "stream",
     "text": [
      "Enter a number 10\n",
      "55\n"
     ]
    }
   ],
   "source": [
    "x = int(input (\"Enter a number \"))\n",
    "def sum (x):\n",
    "    if x==0:\n",
    "        return 0\n",
    "    else:\n",
    "        return x + sum (x-1)\n",
    "print(sum(x))    "
   ]
  },
  {
   "cell_type": "markdown",
   "id": "76adec3f",
   "metadata": {},
   "source": [
    "# Exercise 7: Assign a different name to function and call it through the new name"
   ]
  },
  {
   "cell_type": "code",
   "execution_count": 7,
   "id": "2cafcbde",
   "metadata": {},
   "outputs": [
    {
     "name": "stdout",
     "output_type": "stream",
     "text": [
      "('saka', 22)\n"
     ]
    }
   ],
   "source": [
    "def first_one(name,age):\n",
    "    return name,age\n",
    "first_one(\"saka\",22)\n",
    "second_one=first_one\n",
    "print(second_one(\"saka\",22))"
   ]
  },
  {
   "cell_type": "markdown",
   "id": "bf99f2b2",
   "metadata": {},
   "source": [
    "# Exercise 8: Generate a Python list of all the even numbers between 4 to 30\n"
   ]
  },
  {
   "cell_type": "code",
   "execution_count": 17,
   "id": "29404a8a",
   "metadata": {},
   "outputs": [
    {
     "name": "stdout",
     "output_type": "stream",
     "text": [
      "4\n",
      "5\n",
      "6\n",
      "7\n",
      "8\n",
      "9\n",
      "10\n",
      "11\n",
      "12\n",
      "13\n",
      "14\n",
      "15\n",
      "16\n",
      "17\n",
      "18\n",
      "19\n",
      "20\n",
      "21\n",
      "22\n",
      "23\n",
      "24\n",
      "25\n",
      "26\n",
      "27\n",
      "28\n",
      "29\n",
      "30\n"
     ]
    }
   ],
   "source": [
    "start=4\n",
    "end=30\n",
    "def lists(start,end):\n",
    "    for x in range(start,end+1):\n",
    "        print(x)\n",
    "lists(start,end)        "
   ]
  },
  {
   "cell_type": "markdown",
   "id": "0beb55e1",
   "metadata": {},
   "source": [
    "# Exercise 9: Find the largest item from a given list"
   ]
  },
  {
   "cell_type": "code",
   "execution_count": 18,
   "id": "155f7181",
   "metadata": {},
   "outputs": [
    {
     "name": "stdout",
     "output_type": "stream",
     "text": [
      "24\n"
     ]
    }
   ],
   "source": [
    "lis= [4, 6, 8, 24, 12, 2]\n",
    "print(max(lis))\n",
    "    "
   ]
  },
  {
   "cell_type": "markdown",
   "id": "97cf4236",
   "metadata": {},
   "source": [
    "# Python String Exercise with Solutions\n",
    "# Exercise 1A: Create a string made of the first, middle and last character"
   ]
  },
  {
   "cell_type": "code",
   "execution_count": 19,
   "id": "317cda55",
   "metadata": {},
   "outputs": [
    {
     "name": "stdout",
     "output_type": "stream",
     "text": [
      "Jms\n"
     ]
    }
   ],
   "source": [
    "str1 = \"James\"\n",
    "print(str1[0::2])"
   ]
  },
  {
   "cell_type": "markdown",
   "id": "aa4e3051",
   "metadata": {},
   "source": [
    "# Exercise 1B: Create a string made of the middle three characters"
   ]
  },
  {
   "cell_type": "code",
   "execution_count": 20,
   "id": "b7fa87e6",
   "metadata": {},
   "outputs": [
    {
     "name": "stdout",
     "output_type": "stream",
     "text": [
      "Dip\n"
     ]
    }
   ],
   "source": [
    "str2 = \"JhonDipPeta\"\n",
    "print(str2[4:7])"
   ]
  },
  {
   "cell_type": "code",
   "execution_count": null,
   "id": "22ef6692",
   "metadata": {},
   "outputs": [],
   "source": []
  }
 ],
 "metadata": {
  "kernelspec": {
   "display_name": "Python 3 (ipykernel)",
   "language": "python",
   "name": "python3"
  },
  "language_info": {
   "codemirror_mode": {
    "name": "ipython",
    "version": 3
   },
   "file_extension": ".py",
   "mimetype": "text/x-python",
   "name": "python",
   "nbconvert_exporter": "python",
   "pygments_lexer": "ipython3",
   "version": "3.10.8"
  }
 },
 "nbformat": 4,
 "nbformat_minor": 5
}
